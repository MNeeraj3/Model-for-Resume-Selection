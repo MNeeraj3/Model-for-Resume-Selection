{
 "cells": [
  {
   "cell_type": "markdown",
   "metadata": {},
   "source": [
    "### Problem Statement:"
   ]
  },
  {
   "cell_type": "markdown",
   "metadata": {},
   "source": [
    "#### Build a Machine Learning model , which will help the management to Identify the potential candidates (good candidate to offer job) for both the roles (Web Development and Data Scientist) from the given data."
   ]
  },
  {
   "cell_type": "markdown",
   "metadata": {},
   "source": [
    "### Solution Approch:"
   ]
  },
  {
   "cell_type": "markdown",
   "metadata": {},
   "source": [
    "* Since it is unlabbeled data, I am approching by unsuperwise Algorithms\n",
    "* For Other Skill to take into the model, doing text analysis\n",
    "* Splitting the Other Skill into core skills of Data Science and Web Developement\n",
    "* Providing the Weight to Given skills, Other Skills and Academics\n",
    "* Using K-mean clustering to make clusters"
   ]
  },
  {
   "cell_type": "code",
   "execution_count": 1,
   "metadata": {},
   "outputs": [],
   "source": [
    "#importing the required Library\n",
    "import numpy as np\n",
    "import pandas as pd\n",
    "from sklearn.cluster import KMeans"
   ]
  },
  {
   "cell_type": "code",
   "execution_count": 2,
   "metadata": {},
   "outputs": [
    {
     "data": {
      "text/html": [
       "<div>\n",
       "<style scoped>\n",
       "    .dataframe tbody tr th:only-of-type {\n",
       "        vertical-align: middle;\n",
       "    }\n",
       "\n",
       "    .dataframe tbody tr th {\n",
       "        vertical-align: top;\n",
       "    }\n",
       "\n",
       "    .dataframe thead th {\n",
       "        text-align: right;\n",
       "    }\n",
       "</style>\n",
       "<table border=\"1\" class=\"dataframe\">\n",
       "  <thead>\n",
       "    <tr style=\"text-align: right;\">\n",
       "      <th></th>\n",
       "      <th>Application_ID</th>\n",
       "      <th>Current City</th>\n",
       "      <th>Python (out of 3)</th>\n",
       "      <th>R Programming (out of 3)</th>\n",
       "      <th>Deep Learning (out of 3)</th>\n",
       "      <th>PHP (out of 3)</th>\n",
       "      <th>MySQL (out of 3)</th>\n",
       "      <th>HTML (out of 3)</th>\n",
       "      <th>CSS (out of 3)</th>\n",
       "      <th>JavaScript (out of 3)</th>\n",
       "      <th>...</th>\n",
       "      <th>Node.js (out of 3)</th>\n",
       "      <th>ReactJS (out of 3)</th>\n",
       "      <th>Other skills</th>\n",
       "      <th>Degree</th>\n",
       "      <th>Stream</th>\n",
       "      <th>Current Year Of Graduation</th>\n",
       "      <th>Performance_PG</th>\n",
       "      <th>Performance_UG</th>\n",
       "      <th>Performance_12</th>\n",
       "      <th>Performance_10</th>\n",
       "    </tr>\n",
       "  </thead>\n",
       "  <tbody>\n",
       "    <tr>\n",
       "      <th>0</th>\n",
       "      <td>ML0001</td>\n",
       "      <td>Bangalore</td>\n",
       "      <td>0</td>\n",
       "      <td>2</td>\n",
       "      <td>0</td>\n",
       "      <td>2</td>\n",
       "      <td>0</td>\n",
       "      <td>2</td>\n",
       "      <td>3</td>\n",
       "      <td>2</td>\n",
       "      <td>...</td>\n",
       "      <td>0</td>\n",
       "      <td>0</td>\n",
       "      <td>R Programming</td>\n",
       "      <td>Bachelor of Science (B.Sc)</td>\n",
       "      <td>Mathematics</td>\n",
       "      <td>2017</td>\n",
       "      <td>NaN</td>\n",
       "      <td>NaN</td>\n",
       "      <td>NaN</td>\n",
       "      <td>NaN</td>\n",
       "    </tr>\n",
       "    <tr>\n",
       "      <th>1</th>\n",
       "      <td>ML0002</td>\n",
       "      <td>Bangalore</td>\n",
       "      <td>2</td>\n",
       "      <td>0</td>\n",
       "      <td>0</td>\n",
       "      <td>2</td>\n",
       "      <td>2</td>\n",
       "      <td>2</td>\n",
       "      <td>2</td>\n",
       "      <td>2</td>\n",
       "      <td>...</td>\n",
       "      <td>0</td>\n",
       "      <td>0</td>\n",
       "      <td>Data Science, Machine Learning, Neural Network...</td>\n",
       "      <td>Bachelor of Technology (B.Tech)</td>\n",
       "      <td>Computer Science &amp; Engineering</td>\n",
       "      <td>2019</td>\n",
       "      <td>NaN</td>\n",
       "      <td>85.50/100</td>\n",
       "      <td>92.20/92.20</td>\n",
       "      <td>96.60/96.60</td>\n",
       "    </tr>\n",
       "    <tr>\n",
       "      <th>2</th>\n",
       "      <td>ML0003</td>\n",
       "      <td>Bangalore</td>\n",
       "      <td>3</td>\n",
       "      <td>0</td>\n",
       "      <td>1</td>\n",
       "      <td>2</td>\n",
       "      <td>2</td>\n",
       "      <td>2</td>\n",
       "      <td>0</td>\n",
       "      <td>2</td>\n",
       "      <td>...</td>\n",
       "      <td>0</td>\n",
       "      <td>0</td>\n",
       "      <td>Algorithms, Data Structures, Python, C Program...</td>\n",
       "      <td>Master of Science (M.Sc)</td>\n",
       "      <td>Computer  Science</td>\n",
       "      <td>2018</td>\n",
       "      <td>7.91/10</td>\n",
       "      <td>70.00/100</td>\n",
       "      <td>64.83/64.83</td>\n",
       "      <td>77.60/77.60</td>\n",
       "    </tr>\n",
       "  </tbody>\n",
       "</table>\n",
       "<p>3 rows × 24 columns</p>\n",
       "</div>"
      ],
      "text/plain": [
       "  Application_ID Current City  Python (out of 3)  R Programming (out of 3)  \\\n",
       "0         ML0001    Bangalore                  0                         2   \n",
       "1         ML0002    Bangalore                  2                         0   \n",
       "2         ML0003    Bangalore                  3                         0   \n",
       "\n",
       "   Deep Learning (out of 3)  PHP (out of 3)  MySQL (out of 3)  \\\n",
       "0                         0               2                 0   \n",
       "1                         0               2                 2   \n",
       "2                         1               2                 2   \n",
       "\n",
       "   HTML (out of 3)  CSS (out of 3)  JavaScript (out of 3)  ...  \\\n",
       "0                2               3                      2  ...   \n",
       "1                2               2                      2  ...   \n",
       "2                2               0                      2  ...   \n",
       "\n",
       "   Node.js (out of 3)  ReactJS (out of 3)  \\\n",
       "0                   0                   0   \n",
       "1                   0                   0   \n",
       "2                   0                   0   \n",
       "\n",
       "                                        Other skills  \\\n",
       "0                                      R Programming   \n",
       "1  Data Science, Machine Learning, Neural Network...   \n",
       "2  Algorithms, Data Structures, Python, C Program...   \n",
       "\n",
       "                            Degree                          Stream  \\\n",
       "0       Bachelor of Science (B.Sc)                     Mathematics   \n",
       "1  Bachelor of Technology (B.Tech)  Computer Science & Engineering   \n",
       "2         Master of Science (M.Sc)               Computer  Science   \n",
       "\n",
       "   Current Year Of Graduation Performance_PG Performance_UG Performance_12  \\\n",
       "0                        2017            NaN            NaN            NaN   \n",
       "1                        2019            NaN      85.50/100    92.20/92.20   \n",
       "2                        2018        7.91/10      70.00/100    64.83/64.83   \n",
       "\n",
       "   Performance_10  \n",
       "0             NaN  \n",
       "1     96.60/96.60  \n",
       "2     77.60/77.60  \n",
       "\n",
       "[3 rows x 24 columns]"
      ]
     },
     "execution_count": 2,
     "metadata": {},
     "output_type": "execute_result"
    }
   ],
   "source": [
    "# reading data set\n",
    "data=pd.read_excel('mavoix_ml_sample_dataset.xlsx')\n",
    "df = data.copy() # making a copy \n",
    "df.head(3) # top 3 rows"
   ]
  },
  {
   "cell_type": "code",
   "execution_count": 3,
   "metadata": {},
   "outputs": [
    {
     "name": "stdout",
     "output_type": "stream",
     "text": [
      "<class 'pandas.core.frame.DataFrame'>\n",
      "RangeIndex: 392 entries, 0 to 391\n",
      "Data columns (total 24 columns):\n",
      "Application_ID                392 non-null object\n",
      "Current City                  392 non-null object\n",
      "Python (out of 3)             392 non-null int64\n",
      "R Programming (out of 3)      392 non-null int64\n",
      "Deep Learning (out of 3)      392 non-null int64\n",
      "PHP (out of 3)                392 non-null int64\n",
      "MySQL (out of 3)              392 non-null int64\n",
      "HTML (out of 3)               392 non-null int64\n",
      "CSS (out of 3)                392 non-null int64\n",
      "JavaScript (out of 3)         392 non-null int64\n",
      "Unnamed: 10                   0 non-null float64\n",
      "AJAX (out of 3)               392 non-null int64\n",
      "Bootstrap (out of 3)          392 non-null int64\n",
      "MongoDB (out of 3)            392 non-null int64\n",
      "Node.js (out of 3)            392 non-null int64\n",
      "ReactJS (out of 3)            392 non-null int64\n",
      "Other skills                  378 non-null object\n",
      "Degree                        380 non-null object\n",
      "Stream                        374 non-null object\n",
      "Current Year Of Graduation    392 non-null int64\n",
      "Performance_PG                103 non-null object\n",
      "Performance_UG                338 non-null object\n",
      "Performance_12                229 non-null object\n",
      "Performance_10                215 non-null object\n",
      "dtypes: float64(1), int64(14), object(9)\n",
      "memory usage: 73.6+ KB\n"
     ]
    }
   ],
   "source": [
    "# data information\n",
    "df.info()"
   ]
  },
  {
   "cell_type": "code",
   "execution_count": 4,
   "metadata": {},
   "outputs": [
    {
     "data": {
      "text/plain": [
       "(392, 24)"
      ]
     },
     "execution_count": 4,
     "metadata": {},
     "output_type": "execute_result"
    }
   ],
   "source": [
    "df.shape"
   ]
  },
  {
   "cell_type": "markdown",
   "metadata": {},
   "source": [
    "## Null Values\n"
   ]
  },
  {
   "cell_type": "code",
   "execution_count": 5,
   "metadata": {
    "scrolled": false
   },
   "outputs": [
    {
     "data": {
      "text/plain": [
       "Application_ID                  0\n",
       "Current City                    0\n",
       "Python (out of 3)               0\n",
       "R Programming (out of 3)        0\n",
       "Deep Learning (out of 3)        0\n",
       "PHP (out of 3)                  0\n",
       "MySQL (out of 3)                0\n",
       "HTML (out of 3)                 0\n",
       "CSS (out of 3)                  0\n",
       "JavaScript (out of 3)           0\n",
       "Unnamed: 10                   392\n",
       "AJAX (out of 3)                 0\n",
       "Bootstrap (out of 3)            0\n",
       "MongoDB (out of 3)              0\n",
       "Node.js (out of 3)              0\n",
       "ReactJS (out of 3)              0\n",
       "Other skills                   14\n",
       "Degree                         12\n",
       "Stream                         18\n",
       "Current Year Of Graduation      0\n",
       "Performance_PG                289\n",
       "Performance_UG                 54\n",
       "Performance_12                163\n",
       "Performance_10                177\n",
       "dtype: int64"
      ]
     },
     "execution_count": 5,
     "metadata": {},
     "output_type": "execute_result"
    }
   ],
   "source": [
    "# Null value counts\n",
    "df.isna().sum()"
   ]
  },
  {
   "cell_type": "markdown",
   "metadata": {},
   "source": [
    "* Unnamed: 10 completely null Deleting this column\n",
    "* Instead of using the stream feature, considering Skills related to Data Science and Web Devep.\n",
    "* In Performance in PG/UG/12th/10th giving 1 if Score is First Devision 0 otherwise\n",
    "* In Degree if they are PG then providing 1 else 0\n"
   ]
  },
  {
   "cell_type": "code",
   "execution_count": 6,
   "metadata": {},
   "outputs": [],
   "source": [
    "# Deleting the column \"Unnamed: 10\"\n",
    "del df['Unnamed: 10']"
   ]
  },
  {
   "cell_type": "code",
   "execution_count": 7,
   "metadata": {},
   "outputs": [],
   "source": [
    "# Filling all the missing values with zero to perform the above actions\n",
    "df.fillna(0,inplace = True)"
   ]
  },
  {
   "cell_type": "markdown",
   "metadata": {},
   "source": [
    "#### Handling Others Skills"
   ]
  },
  {
   "cell_type": "code",
   "execution_count": 8,
   "metadata": {},
   "outputs": [
    {
     "name": "stdout",
     "output_type": "stream",
     "text": [
      "{'Angular 2.0', 'Deep Learning', 'Search Engine Marketing (SEM)', 'Hadoop', 'GNU Octave', 'Blockchain', 'Cloud Computing', 'Email Marketing', 'Dart', 'Search Engine Optimization (SEO)', 'Power BI', 'Autodesk Inventor', 'AngularJS', 'Oracle', 'Bootstrap', 'Unix', '3ds Max', 'Flask', 'Android', 'Adobe Premiere Pro', '.NET', 'R Programming', 'Google Analytics', 'Articulate Storyline', 'SolidWorks', 'MongoDB', 'jQuery', 'Hibernate (Java)', 'NI Multisim', 'Hindi Proficiency (Spoken)', 'Linux', 'English Proficiency (Written)', 'Mathematics', 'Artifical Intelligence', 'MS-Word', 'SQL', 'Computer Networks', 'Apache', 'ERP Implementation and Deployment', 'REST API', 'Punjabi Proficiency (Spoken)', 'Teaching', 'Node.js', 'AJAX', 'Telugu Proficiency (Written)', 'Adobe Flash', 'Firebase', 'Algorithms', 'MS-Excel', 'Machine Learning', 'React Native', 'Model View Controller(MVC)', 'PostgreSQL', 'Data Science', 'BIG DATA ANALYTICS', 'User Interface (UI) Development', 'C Programming', 'Bengali Proficiency (Spoken)', 'XML', 'Swing (Java)', 'Adobe XD', 'English Proficiency (Spoken)', 'C#', 'WordPress', 'Statistical Modeling', 'C++ Programming', 'Adobe Illustrator', 'Arduino', 'Hindi Proficiency(Spoken)', 'Wireframing', 'Video Editing', 'Data Structures', 'AutoCAD', 'Natural Language Processing (NLP)', 'MS-PowerPoint', 'VHDL', 'Adobe Photoshop', 'OpenCV', 'UI & UX Design', 'Financial Modeling', 'Bengali Proficiency (Written)', 'Telugu Proficiency (Spoken)', 'Event Management', 'CSS', 'Autodesk SketchBook', 'Catia', 'SAS', 'Kotlin', 'MySQL', 'Computer Networking', 'SAP', 'Data Analytics', 'ElectronJS', 'SPSS', 'Digital Signal Processing', 'ANSYS', 'Physics', 'Flutter', 'Spring MVC', 'MATLAB', 'Eclipse (IDE)', 'Adobe Photoshop Lightroom CC', 'Microsoft Visual Studio', 'Manual Testing', 'Python', 'Linear Programming', 'Hindi Proficiency (Written)', 'Embedded Systems', 'Creative Writing', 'PHP', 'Redux', 'Visual Basic (VB)', 'Accounting', 'Tableau', 'Robotics', 'J2EE', 'Windows Mobile Application Development', 'Social Media Marketing', 'Database Management System (DBMS)', 'Microsoft Azure', 'SQLite', 'Proteus Design Suite', 'Computer Vision', 'Shell Scripting', 'Report Writing', 'Database Testing', 'JSP', 'Magento', 'Punjabi Proficiency (Written)', 'Software Testing', 'Neural Networks', 'Ethical Hacking', 'ReactJS', 'LaTeX', 'Golang', 'MS SQL Server', 'Audacity', 'Java', 'Amazon Web Services (AWS)', 'GitHub', 'Raspberry Pi', 'Adobe Dreamweaver', 'HTML', 'Django', 'Image Processing', '0', 'Digital Marketing', 'JavaScript', 'Perl', 'Adobe Creative Suite', 'Servlets', 'ASP.NET', 'LARAVEL', 'Internet of Things (IoT)', 'C#.NET', 'Six Sigma', 'NoSQL', 'Angular 7.0', 'MS-Office', 'Photography'}\n"
     ]
    }
   ],
   "source": [
    "# converting type into list of string\n",
    "df['Other skills']  = df['Other skills'].apply(lambda x: str(x).split(\", \"))\n",
    "\n",
    "# All skill Set\n",
    "skill_set = set(df['Other skills'].sum())\n",
    "print(skill_set)\n",
    "\n",
    "# Other Core Skills for Web Developement\n",
    "other_core_web = {'HTML', 'SAP', 'User Interface (UI) Development', 'Search Engine Optimization (SEO)', 'Apache', 'Linux', 'Hadoop', 'Bootstrap'}\n",
    "\n",
    "# Other Core Skills for Data Science\n",
    "other_core_DataScience = {'SAS', 'Data Science', 'Natural Language Processing (NLP)', 'BIG DATA ANALYTICS', 'Statistical Modeling','Neural Network', 'Machine Learning'}\n",
    "\n",
    "# creating two new features\n",
    "df['other_DS_skills(out_6)'] = df['Other skills'].apply(lambda x: len(set(x).intersection(other_core_DataScience)))\n",
    "df['other_WD_skills(out_8)'] = df['Other skills'].apply(lambda x: len(set(x).intersection(other_core_web)))"
   ]
  },
  {
   "cell_type": "code",
   "execution_count": 9,
   "metadata": {},
   "outputs": [],
   "source": [
    "# handelling UG/PG Degree\n",
    "df['Degree'] = df.Degree.apply(lambda x: str(x).split(\" \")[0])\n",
    "df['Degree'] = df['Degree'].replace({'B.Com.':0, 'B.Tech':0,'Bachelor':0, 'Executive':0, 'Integrated':1,\n",
    "                      'MBA':1, 'Master':1, 'PG':1, 'Post':1, '0':0})"
   ]
  },
  {
   "cell_type": "code",
   "execution_count": 10,
   "metadata": {},
   "outputs": [],
   "source": [
    "# functions for transforming PG/UG/12th/10th features\n",
    "def division_graduation(x):\n",
    "    if x != 0:\n",
    "        temp = str(x).split('/')\n",
    "        x = float(temp[0])\n",
    "        total= int(temp[-1])\n",
    "        if x/total > 0.6:\n",
    "            return 1\n",
    "    return 0\n",
    "def performance(df,col):\n",
    "    for i in col:\n",
    "        df[i] = df[i].map(division_graduation)\n",
    "    return df\n",
    "\n",
    "def division_intermediate(x):\n",
    "    if x > 10:\n",
    "        x /= 10\n",
    "    if x>6:\n",
    "        return 1\n",
    "    return 0\n",
    "    "
   ]
  },
  {
   "cell_type": "code",
   "execution_count": 11,
   "metadata": {},
   "outputs": [],
   "source": [
    "df['Performance_12'] =  df['Performance_12'].apply(lambda x:division_intermediate(float(str(x).split(\"/\")[0])))\n",
    "df['Performance_10'] =  df['Performance_10'].apply(lambda x:division_intermediate(float(str(x).split(\"/\")[0])))"
   ]
  },
  {
   "cell_type": "code",
   "execution_count": 12,
   "metadata": {},
   "outputs": [],
   "source": [
    "df = performance(df, ['Performance_PG', 'Performance_UG'])\n",
    "df['year_gap'] = df['Current Year Of Graduation'] - 2020"
   ]
  },
  {
   "cell_type": "code",
   "execution_count": 13,
   "metadata": {},
   "outputs": [],
   "source": [
    "# Dropping all the object columns\n",
    "df = df.select_dtypes(exclude=object)"
   ]
  },
  {
   "cell_type": "markdown",
   "metadata": {},
   "source": [
    "## Scores"
   ]
  },
  {
   "cell_type": "markdown",
   "metadata": {},
   "source": [
    "> Providing manual Weights, \n",
    "* 70% to Given Skills\n",
    "* 20% to Other Skills\n",
    "* 10% to Academics"
   ]
  },
  {
   "cell_type": "code",
   "execution_count": 14,
   "metadata": {},
   "outputs": [],
   "source": [
    "df['DS_SCORE'] = 0.7*(df[['Python (out of 3)','R Programming (out of 3)', 'Deep Learning (out of 3)']].\\\n",
    "                      sum(axis = 1)) + 0.20*(df['other_DS_skills(out_6)']) +\\\n",
    "                    0.10*(df[['Degree','Performance_PG', 'Performance_UG', 'Performance_12', 'Performance_10']].\\\n",
    "                          sum(axis = 1))"
   ]
  },
  {
   "cell_type": "code",
   "execution_count": 15,
   "metadata": {},
   "outputs": [],
   "source": [
    "df['WD_SCORE'] = 0.7*(df[['PHP (out of 3)', 'MySQL (out of 3)', 'HTML (out of 3)', 'CSS (out of 3)',\n",
    "                          'JavaScript (out of 3)', 'AJAX (out of 3)', 'Bootstrap (out of 3)', \n",
    "                          'MongoDB (out of 3)', 'Node.js (out of 3)','ReactJS (out of 3)']].\\\n",
    "                      sum(axis = 1)) + 0.20*(df['other_WD_skills(out_8)']) +\\\n",
    "                0.10*(df[['Degree','Performance_PG', 'Performance_UG', 'Performance_12',\n",
    "                          'Performance_10']].sum(axis = 1))"
   ]
  },
  {
   "cell_type": "markdown",
   "metadata": {},
   "source": [
    "## Clustering Using K-Mean Clustering"
   ]
  },
  {
   "cell_type": "code",
   "execution_count": 16,
   "metadata": {},
   "outputs": [],
   "source": [
    "# create kmeans object for data science\n",
    "kmeans_ds = KMeans(n_clusters=2, random_state=42)\n",
    "# fit kmeans object on  data data science score\n",
    "kmeans_ds.fit(np.array(df['DS_SCORE']).reshape(-1,1))\n",
    "# df['DS_SCORE_cluster'] = kmeans_ds.labels_\n",
    "cen_ds = kmeans_ds.cluster_centers_"
   ]
  },
  {
   "cell_type": "code",
   "execution_count": 17,
   "metadata": {},
   "outputs": [],
   "source": [
    "# create kmeans object for Web Developer \n",
    "kmeans_wd = KMeans(n_clusters=2, random_state=42)\n",
    "# fit kmeans clustering on Web Developer Score\n",
    "kmeans_wd.fit(np.array(df['WD_SCORE']).reshape(-1,1))\n",
    "cen_wd = kmeans_wd.cluster_centers_\n",
    "# df['WD_SCORE_cluster'] = kmeans_wd.labels_"
   ]
  },
  {
   "cell_type": "code",
   "execution_count": 18,
   "metadata": {},
   "outputs": [
    {
     "name": "stdout",
     "output_type": "stream",
     "text": [
      "WD Centroid: [[6.71272727]\n",
      " [1.47709251]]\n",
      "DS Centroid: [[3.48785714]\n",
      " [1.26666667]]\n"
     ]
    }
   ],
   "source": [
    "print(\"WD Centroid:\", cen_wd)\n",
    "print(\"DS Centroid:\", cen_ds)"
   ]
  },
  {
   "cell_type": "code",
   "execution_count": 19,
   "metadata": {},
   "outputs": [],
   "source": [
    "def lable(centroid, points):\n",
    "    if abs(max(centroid)-points) < abs(min(centroid)-points):\n",
    "        return 1\n",
    "    return 0"
   ]
  },
  {
   "cell_type": "code",
   "execution_count": 20,
   "metadata": {},
   "outputs": [],
   "source": [
    "df['DS_SCORE_cluster'] = df['DS_SCORE'].apply(lambda x: lable(cen_ds,x))\n",
    "df['WD_SCORE_cluster'] = df['WD_SCORE'].apply(lambda x: lable(cen_wd,x))"
   ]
  },
  {
   "cell_type": "code",
   "execution_count": 21,
   "metadata": {},
   "outputs": [],
   "source": [
    "data['Suitablefor'] = df[['DS_SCORE_cluster','WD_SCORE_cluster']].apply(lambda x: 1 if (x['DS_SCORE_cluster']==1) & (x['WD_SCORE_cluster']==1) else 0, axis=1)\n"
   ]
  },
  {
   "cell_type": "code",
   "execution_count": 22,
   "metadata": {
    "scrolled": false
   },
   "outputs": [],
   "source": [
    "def suitable(x):\n",
    "    if (x.loc['DS_SCORE_cluster']==1) & (x.loc['WD_SCORE_cluster']==0):\n",
    "        return 'Data Scientist'\n",
    "    if (x.loc['DS_SCORE_cluster']==0) & (x.loc['WD_SCORE_cluster']==1):\n",
    "        return 'Web Developer'\n",
    "    if (x.loc['DS_SCORE_cluster']==1) & (x.loc['WD_SCORE_cluster']==1):\n",
    "        return 'Both(Data Science & Web Developer)'\n",
    "    return 'Not Eligible'\n",
    "data['Suitable_for'] = df[['DS_SCORE_cluster','WD_SCORE_cluster']].apply(lambda x: suitable(x),axis =1)\n"
   ]
  },
  {
   "cell_type": "markdown",
   "metadata": {},
   "source": [
    "#### Some Output insight"
   ]
  },
  {
   "cell_type": "code",
   "execution_count": 23,
   "metadata": {},
   "outputs": [
    {
     "name": "stdout",
     "output_type": "stream",
     "text": [
      "Candidate for Data Science & Web Dev both: 58 out of 392\n"
     ]
    }
   ],
   "source": [
    "Candidate_for_DS_n_WD = data[data['Suitable_for'] == 'Both(Data Science & Web Developer)'].shape[0]\n",
    "print(\"Candidate for Data Science & Web Dev both: {} out of {}\".format(Candidate_for_DS_n_WD,data.shape[0]))"
   ]
  },
  {
   "cell_type": "code",
   "execution_count": 24,
   "metadata": {},
   "outputs": [
    {
     "name": "stdout",
     "output_type": "stream",
     "text": [
      "Candidate for Data Science: 82 out of 392\n"
     ]
    }
   ],
   "source": [
    "Candidate_for_DS = data[data['Suitable_for'] == 'Data Scientist'].shape[0]\n",
    "print(\"Candidate for Data Science: {} out of {}\".format(Candidate_for_DS,data.shape[0]))"
   ]
  },
  {
   "cell_type": "code",
   "execution_count": 25,
   "metadata": {},
   "outputs": [
    {
     "name": "stdout",
     "output_type": "stream",
     "text": [
      "Candidate for Web Developer: 107 out of 392\n"
     ]
    }
   ],
   "source": [
    "Candidate_for_WD = data[data['Suitable_for'] == 'Web Developer'].shape[0]\n",
    "print(\"Candidate for Web Developer: {} out of {}\".format(Candidate_for_WD,data.shape[0]))"
   ]
  },
  {
   "cell_type": "code",
   "execution_count": 26,
   "metadata": {},
   "outputs": [
    {
     "name": "stdout",
     "output_type": "stream",
     "text": [
      "Candidates that are Not Eligible: 145 out of 392\n"
     ]
    }
   ],
   "source": [
    "Candidate_NE = data[data['Suitable_for'] == 'Not Eligible'].shape[0]\n",
    "print(\"Candidates that are Not Eligible: {} out of {}\".format(Candidate_NE,data.shape[0]))"
   ]
  },
  {
   "cell_type": "code",
   "execution_count": 27,
   "metadata": {},
   "outputs": [],
   "source": [
    "# Saving as a dataframe\n",
    "data.to_csv(\"Output.csv\")"
   ]
  },
  {
   "cell_type": "code",
   "execution_count": null,
   "metadata": {},
   "outputs": [],
   "source": []
  }
 ],
 "metadata": {
  "kernelspec": {
   "display_name": "Python 3",
   "language": "python",
   "name": "python3"
  },
  "language_info": {
   "codemirror_mode": {
    "name": "ipython",
    "version": 3
   },
   "file_extension": ".py",
   "mimetype": "text/x-python",
   "name": "python",
   "nbconvert_exporter": "python",
   "pygments_lexer": "ipython3",
   "version": "3.7.3"
  }
 },
 "nbformat": 4,
 "nbformat_minor": 2
}
